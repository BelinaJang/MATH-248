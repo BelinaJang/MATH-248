{
 "cells": [
  {
   "cell_type": "markdown",
   "metadata": {},
   "source": [
    "1. Student loan: suppose a student loan in the amount of P0 needs to be paid off in T months.\n",
    "The monthly payment is x. The interest is compounded monthly with an annual rate r. Let Pn be the balance of\n",
    "the loan at the end of month n, for n = 1, 2, . . . , T. Then, Pn can be model, Pn+1 − Pn = r/12*Pn − x."
   ]
  },
  {
   "cell_type": "code",
   "execution_count": 3,
   "metadata": {},
   "outputs": [
    {
     "name": "stdout",
     "output_type": "stream",
     "text": [
      "29214.26021023391\n",
      "[506.22569082]\n",
      "[7.74797561]\n"
     ]
    }
   ],
   "source": [
    "from scipy.optimize import root_scalar\n",
    "from numpy import zeros, exp\n",
    "from scipy.optimize import fsolve\n",
    "\n",
    "#(a)\n",
    "\n",
    "#n: the month to calculate the balance Pn\n",
    "#P0 : the initial balance:\n",
    "#r : the annual interest rate\n",
    "#x : the monthly payment\n",
    "\n",
    "def p(n, P0,r,x):\n",
    "    P = zeros(n+1)\n",
    "    P[0] = P0\n",
    "    for i in range(1, n+1):\n",
    "        P[i] = P[i-1] + (r/12*P[i-1])-x\n",
    "    return float(P[n])\n",
    "\n",
    "#(b)\n",
    "\n",
    "P24 = p(n=24,P0=50000,r=0.04, x=1000)\n",
    "print(P24)\n",
    "\n",
    "#(c)\n",
    "A_function = lambda x: p(n=120, P0=50000, r = 0.04, x=x)\n",
    "payment = fsolve(A_function, x0 = 600)\n",
    "print(payment)\n",
    "\n",
    "#(d)\n",
    "B_function = lambda r: p(n=120, P0=50000, r = r, x=600)\n",
    "interest = fsolve(B_function, x0 = 0.03)*100\n",
    "print(interest)"
   ]
  },
  {
   "cell_type": "markdown",
   "metadata": {},
   "source": [
    "2. Consider the function y = f(x) given by the following implicit relationship.\n",
    "x^4 + y^2 = y^3 + x for x ∈ [0.4, 0.7]."
   ]
  },
  {
   "cell_type": "code",
   "execution_count": null,
   "metadata": {},
   "outputs": [],
   "source": [
    "# question 2\n",
    "from numpy import zeros\n",
    "\n",
    "#(a) Please write a function named f that calculate y = f(x).\n",
    "def f(x):\n",
    "    n = len(t)\n",
    "    x = zeros(n) # solution\n",
    "    x[0] = x0\n",
    "    g = lambda x0, x1, h: x1 - h*f(t, x1) - x0\n",
    "    for i in range(1, n): # starting from t[1]\n",
    "        h = t[i] - t[i-1]\n",
    "        x[i], iter = Newton(lambda xi: g(x[i-1], xi, h), x[i-1], epsilon=epsilon)\n",
    "    return y"
   ]
  }
 ],
 "metadata": {
  "kernelspec": {
   "display_name": "Python 3",
   "language": "python",
   "name": "python3"
  },
  "language_info": {
   "codemirror_mode": {
    "name": "ipython",
    "version": 3
   },
   "file_extension": ".py",
   "mimetype": "text/x-python",
   "name": "python",
   "nbconvert_exporter": "python",
   "pygments_lexer": "ipython3",
   "version": "3.8.5"
  }
 },
 "nbformat": 4,
 "nbformat_minor": 4
}
