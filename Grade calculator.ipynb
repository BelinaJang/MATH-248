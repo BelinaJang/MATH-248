{
 "cells": [
  {
   "cell_type": "code",
   "execution_count": 10,
   "metadata": {},
   "outputs": [
    {
     "name": "stdout",
     "output_type": "stream",
     "text": [
      "last term: 100\n",
      "5050.0\n"
     ]
    }
   ],
   "source": [
    "#program: sum of Arithmetic sequence (a(1)= 1)\n",
    "def main():\n",
    "    n= int(input(\"last term: \"))\n",
    "    sum = (1/2*(n)*(1+n))\n",
    "    print(sum)\n",
    "if __name__ == '__main__':\n",
    "    main()"
   ]
  },
  {
   "cell_type": "code",
   "execution_count": 22,
   "metadata": {},
   "outputs": [
    {
     "name": "stdout",
     "output_type": "stream",
     "text": [
      "What is your Math grade?:80\n",
      "what is your English grade?:80\n",
      "what is your Social Studies grade?:80\n",
      "what is your Science grade?:80\n",
      "80.0\n",
      "B 80.00\n",
      "do you want to continue the program?:yes\n",
      "\n",
      "What is your Math grade?:90\n",
      "what is your English grade?:90\n",
      "what is your Social Studies grade?:90\n",
      "what is your Science grade?:90\n",
      "90.0\n",
      "A 90.00\n",
      "do you want to continue the program?:no\n",
      "program end\n"
     ]
    }
   ],
   "source": [
    "#program: grade calculator\n",
    "def main():\n",
    "    loop = 1\n",
    "    while loop == 1:\n",
    "        a = int(input(\"What is your Math grade?:\"))\n",
    "        b = int(input(\"what is your English grade?:\"))\n",
    "        c = int(input(\"what is your Social Studies grade?:\"))\n",
    "        d = int(input(\"what is your Science grade?:\"))\n",
    "    \n",
    "        n = (a+b+c+d)/4\n",
    "        print (n)\n",
    "    \n",
    "        if n>=90 and n<= 100:\n",
    "            print (\"A\", format(n, '.2f'))\n",
    "        elif n>=80:\n",
    "            print (\"B\", format(n, '.2f'))\n",
    "        elif n>=70:\n",
    "            print (\"C\", format(n, '.2f'))\n",
    "        elif n>= 60:\n",
    "            print (\"D %.2f\" % n)\n",
    "        else:\n",
    "            print (\"F %.2f\"%n)\n",
    "        cont= input(\"do you want to continue the program?:\")\n",
    "        \n",
    "        if cont == \"yes\":\n",
    "            print()\n",
    "        elif cont == \"no\":\n",
    "            loop = 2\n",
    "    print(\"program end\")\n",
    "    \n",
    "    \n",
    "if __name__ == '__main__':\n",
    "    main()"
   ]
  },
  {
   "cell_type": "code",
   "execution_count": null,
   "metadata": {},
   "outputs": [],
   "source": []
  }
 ],
 "metadata": {
  "kernelspec": {
   "display_name": "Python 3",
   "language": "python",
   "name": "python3"
  },
  "language_info": {
   "codemirror_mode": {
    "name": "ipython",
    "version": 3
   },
   "file_extension": ".py",
   "mimetype": "text/x-python",
   "name": "python",
   "nbconvert_exporter": "python",
   "pygments_lexer": "ipython3",
   "version": "3.8.5"
  }
 },
 "nbformat": 4,
 "nbformat_minor": 2
}
