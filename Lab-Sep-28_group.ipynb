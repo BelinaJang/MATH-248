{
 "cells": [
  {
   "cell_type": "markdown",
   "metadata": {},
   "source": [
    "# Review\n",
    "\n",
    "## Python lambda functions\n",
    "\n",
    "```Python\n",
    "lambda arguments: value\n",
    "```\n",
    "where \n",
    "  * `lambda` is a keyward\n",
    "  * `arguments` are comma separated variable names\n",
    "  * `value` is the value of the function, computed from the arguments\n",
    "\n",
    "### Example\n",
    "Solve the equation $\\cos x = x$ using the `fsolve` function in the `scipy.optimize` package, using $x_0=1$ as the initial condition."
   ]
  },
  {
   "cell_type": "code",
   "execution_count": 3,
   "metadata": {},
   "outputs": [
    {
     "data": {
      "text/plain": [
       "array([0.73908513])"
      ]
     },
     "execution_count": 3,
     "metadata": {},
     "output_type": "execute_result"
    }
   ],
   "source": [
    "from scipy.optimize import fsolve\n",
    "from math import cos\n",
    "\n",
    "fsolve(lambda x: cos(x) - x, x0=0.5)"
   ]
  },
  {
   "cell_type": "markdown",
   "metadata": {},
   "source": [
    "## The reduce function\n"
   ]
  },
  {
   "cell_type": "code",
   "execution_count": 8,
   "metadata": {},
   "outputs": [
    {
     "name": "stdout",
     "output_type": "stream",
     "text": [
      "Help on built-in function reduce in module _functools:\n",
      "\n",
      "reduce(...)\n",
      "    reduce(function, sequence[, initial]) -> value\n",
      "    \n",
      "    Apply a function of two arguments cumulatively to the items of a sequence,\n",
      "    from left to right, so as to reduce the sequence to a single value.\n",
      "    For example, reduce(lambda x, y: x+y, [1, 2, 3, 4, 5]) calculates\n",
      "    ((((1+2)+3)+4)+5).  If initial is present, it is placed before the items\n",
      "    of the sequence in the calculation, and serves as a default when the\n",
      "    sequence is empty.\n",
      "\n"
     ]
    }
   ],
   "source": [
    "from functools import reduce\n",
    "\n",
    "help (reduce)"
   ]
  },
  {
   "cell_type": "code",
   "execution_count": 9,
   "metadata": {},
   "outputs": [
    {
     "name": "stdout",
     "output_type": "stream",
     "text": [
      "S = 20\n",
      "S = 20\n"
     ]
    }
   ],
   "source": [
    "### An example with initial\n",
    "\n",
    "f = lambda v, x: v+x\n",
    "S = reduce(f, [1,2,3,4], 10)\n",
    "print(\"S =\", S)\n",
    "\n",
    "# this is equivalent to \n",
    "v1 = f(10, 1)\n",
    "v2 = f(v1, 2)\n",
    "v3 = f(v2, 3)\n",
    "S = f(v3, 4)\n",
    "print(\"S =\", S)\n"
   ]
  },
  {
   "cell_type": "code",
   "execution_count": 11,
   "metadata": {},
   "outputs": [
    {
     "name": "stdout",
     "output_type": "stream",
     "text": [
      "S = 10\n",
      "S = 10\n"
     ]
    }
   ],
   "source": [
    "### An example without initial\n",
    "\n",
    "f = lambda v, x: v+x\n",
    "S = reduce(f, [1,2,3,4])\n",
    "print(\"S =\", S)\n",
    "\n",
    "# this is equivalent to \n",
    "v1 = f(1, 2)\n",
    "v2 = f(v1, 3)\n",
    "S = f(v2, 4)\n",
    "print(\"S =\", S)"
   ]
  },
  {
   "cell_type": "markdown",
   "metadata": {},
   "source": [
    "## Repeats a list\n",
    "if l is a list, then l * n is a list that repeats l n times"
   ]
  },
  {
   "cell_type": "code",
   "execution_count": 13,
   "metadata": {},
   "outputs": [
    {
     "name": "stdout",
     "output_type": "stream",
     "text": [
      "[1, 2, 1, 2, 1, 2]\n"
     ]
    }
   ],
   "source": [
    "print([1, 2] * 3)"
   ]
  },
  {
   "cell_type": "markdown",
   "metadata": {},
   "source": [
    "## Composite functions (Group discussion)\n",
    "The following composite function defines $f^n=\\underbrace{f\\circ f\\circ\\cdots f}_n$\n",
    "  * Please divide students into groups to discuss and find the sequence of statements that is equivalent to `composite(f, 3)` in the following example, as we did in the examples of the `reduce` function above."
   ]
  },
  {
   "cell_type": "code",
   "execution_count": 31,
   "metadata": {},
   "outputs": [
    {
     "name": "stdout",
     "output_type": "stream",
     "text": [
      "100000000\n"
     ]
    }
   ],
   "source": [
    "# compose two functions\n",
    "compose = lambda f, g: ( lambda x: f(g(x)) )\n",
    "# identify function\n",
    "identity = lambda x : x\n",
    "\n",
    "def composite(f, n):\n",
    "    if n == 0:\n",
    "        return identity\n",
    "    return reduce(compose, [f] * n)\n",
    "\n",
    "# example\n",
    "f = lambda x: x**2\n",
    "g = composite(f, 3)\n",
    "print(g(10))"
   ]
  },
  {
   "cell_type": "markdown",
   "metadata": {},
   "source": [
    "## Periodic orbits of the logistic map\n",
    "A T-periodic solution of $x_{n+1}=f(x_n)$ is a fixed point of $f^T$\n",
    "\n",
    "### Example\n",
    "$x_{n+1} = rx_n(1-x_n)$ has a 4-periodic solution when $r=3.5$. The following code finds this periodic orbit"
   ]
  },
  {
   "cell_type": "code",
   "execution_count": 38,
   "metadata": {},
   "outputs": [
    {
     "name": "stdout",
     "output_type": "stream",
     "text": [
      "[0.50088421] [0.87499726] [0.38281968] [0.82694071] [0.50088421] ==x0\n"
     ]
    }
   ],
   "source": [
    "r = 3.5\n",
    "f = lambda x: r*x*(1-x)\n",
    "x0 = fsolve(lambda x:composite(f, 4)(x)-x, x0=0.5)\n",
    "x1 = f(x0)\n",
    "x2 = f(x1)\n",
    "x3 = f(x2)\n",
    "x4 = f(x3)\n",
    "print(x0, x1, x2, x3, x4, \"==x0\")"
   ]
  },
  {
   "cell_type": "code",
   "execution_count": null,
   "metadata": {},
   "outputs": [],
   "source": []
  }
 ],
 "metadata": {
  "kernelspec": {
   "display_name": "Python 3",
   "language": "python",
   "name": "python3"
  },
  "language_info": {
   "codemirror_mode": {
    "name": "ipython",
    "version": 3
   },
   "file_extension": ".py",
   "mimetype": "text/x-python",
   "name": "python",
   "nbconvert_exporter": "python",
   "pygments_lexer": "ipython3",
   "version": "3.8.5"
  }
 },
 "nbformat": 4,
 "nbformat_minor": 4
}
