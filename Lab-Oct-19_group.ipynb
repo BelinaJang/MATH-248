{
 "cells": [
  {
   "cell_type": "markdown",
   "metadata": {},
   "source": [
    "# Review\n",
    "\n",
    "## Read a text file\n",
    "  * use `open` function to open a file: `open(filename)` where `filename` is a string\n",
    "    * loop through the file for its content line by line\n",
    "  * `with` statement: `with expression as variable:`\n",
    "    * the `as variable` part is optional, it assigns the expression to the variable\n",
    "    * the expression is an object with `__enter__` and `__exit__` methods\n",
    "    * the `__exit__` method of a file closes the file.\n",
    "  * `with open(filename) as file:` assign the opned file to the variable `file`\n",
    "    * after exiting the `with` statement, the file is closed."
   ]
  },
  {
   "cell_type": "code",
   "execution_count": 12,
   "metadata": {
    "scrolled": true
   },
   "outputs": [
    {
     "name": "stdout",
     "output_type": "stream",
     "text": [
      "65.78331,112.9925\n",
      "\n",
      "71.51521,136.4873\n",
      "\n",
      "69.39874,153.0269\n",
      "\n",
      "68.2166,142.3354\n",
      "\n",
      "67.78781,144.2971\n",
      "\n",
      "68.69784,123.3024\n",
      "\n",
      "69.80204,141.4947\n",
      "\n",
      "70.01472,136.4623\n",
      "\n",
      "67.90265,112.3723\n",
      "\n",
      "66.78236,120.6672\n",
      "\n"
     ]
    }
   ],
   "source": [
    "# print the first 10 lines\n",
    "with open('height-weight.csv','r') as file:\n",
    "    linenumber = 0\n",
    "    for line in file:\n",
    "        print(line)\n",
    "        linenumber = linenumber + 1\n",
    "        if linenumber == 10:\n",
    "            break"
   ]
  },
  {
   "cell_type": "markdown",
   "metadata": {},
   "source": [
    "## Read a Comma Seperated Values (CSV) File\n",
    "* the `csv` module provides the facilities to read CSV files\n",
    "* The main reading facility is the `reader` class\n",
    "  * to create a `reader object`, you need to pass the an opened file object as the first arguments\n",
    "  * some useful optional keyword arguments \n",
    "    * `delimiter`: a one-character string for deliminator (field seperator), defaults to \",\"\n",
    "    * `quotechar`: a one-character string to quote fields containing special characters, such as the delimiter or quotechar, defaults to '\"'\n",
    "* You can loop through a `reader` object to access its rows.\n",
    "  * each row is a list of strings\n"
   ]
  },
  {
   "cell_type": "code",
   "execution_count": 13,
   "metadata": {},
   "outputs": [
    {
     "name": "stdout",
     "output_type": "stream",
     "text": [
      "['65.78331', '112.9925']\n",
      "['71.51521', '136.4873']\n",
      "['69.39874', '153.0269']\n",
      "['68.2166', '142.3354']\n",
      "['67.78781', '144.2971']\n",
      "['68.69784', '123.3024']\n",
      "['69.80204', '141.4947']\n",
      "['70.01472', '136.4623']\n",
      "['67.90265', '112.3723']\n",
      "['66.78236', '120.6672']\n"
     ]
    }
   ],
   "source": [
    "import csv\n",
    "\n",
    "# print the first 10 lines\n",
    "with open('height-weight.csv') as file:\n",
    "    table = csv.reader(file)\n",
    "    for row in table:\n",
    "        print(row)\n",
    "        if table.line_num == 10:\n",
    "            break"
   ]
  },
  {
   "cell_type": "code",
   "execution_count": 18,
   "metadata": {},
   "outputs": [],
   "source": [
    "# read the csv into a matrix\n"
   ]
  },
  {
   "cell_type": "markdown",
   "metadata": {},
   "source": [
    "# A Review on Primary Component Analysis\n",
    "Suppose there are $n$ samples on $m$ variables $X_j$ for $j=1,2,\\dots,m$.\n",
    "\n",
    "The first primary component is a unit vector $\\vec \\alpha = [\\alpha_1,\\dots,\\alpha_m]^T$, $\\|\\vec\\alpha\\|=1$, such that the linear combination of the variables\n",
    "$$Y=\\sum_{k=1}^m\\alpha_k X_k,\\; \\|()\\|=1$$\n",
    "has the largest variance (i.e., it explains the most varaince in the data. It is also the direction of the line that the minimizes the square distance beteween the line and the data.\n",
    "\n",
    "The second primary component is a unit vector $\\vec \\beta = [\\beta,\\dots,\\beta]^T$ orthogonal to $\\vec\\alpha$, i.e., $\\|\\vec\\alpha\\|=1$ and $\\vec\\beta \\perp\\vec\\alpha$, suc that the  linear combination of the variables\n",
    "$$Z=\\sum_{k=1}^m\\beta_k X_k,\\; 1$$\n",
    "has the largest variance (i.e., it explains the most varaince in the data when subtracted $Y\\vec \\alpha$ from the data.\n",
    "\n",
    "* We first shift the data by subtracting the average of each variable from the data to make the data zero mean. \n",
    "* Suppose the data is organized as a matrix $X$, where each row is a sample and each column is a variable, i.e., $X_{ij}$ is the value of the variable $j$ for sample $i$.\n",
    "* The variance covariance matrix is $X^TX$.\n",
    "* The first and second primary component is then the eigenvectors of $X^TX$ associated witht he largest and the second largest eigenvalues, respectively.\n",
    "\n",
    "# Group assignment\n",
    "The height_weight.csv contains 25,000 samples of the height (in inches, in the first column) and weight (in lbs, in the second column) of a population. This dataset is downloaded from [Statistics Online Computational Resource](http://wiki.stat.ucla.edu/socr/index.php/SOCR_Data_Dinov_020108_HeightsWeights)\n",
    "\n",
    "1. Find the first primary component, which is the linear relationship between weight and height.\n",
    "\n",
    "2. Find the second primary component, which is the deviation from the linear relationship, and the variable $Z$ is thus a measure of overweightness for this population.\n",
    "\n",
    "3. Define a function that calculates the value $Z$ from a weight and a height.\n",
    "\n",
    "**Hint**: the `eig` function in `numpy.linalg` compute the eigenvalues and eigenvectors of a matrix.\n",
    "  * `e, P=eig(A)` returns the eigenvalues of teh matrix $A$ in `e`, and the associated eigenvectors in $P$."
   ]
  },
  {
   "cell_type": "code",
   "execution_count": 47,
   "metadata": {},
   "outputs": [
    {
     "name": "stdout",
     "output_type": "stream",
     "text": [
      "[[ 65.78331 112.9925 ]\n",
      " [ 71.51521 136.4873 ]\n",
      " [ 69.39874 153.0269 ]\n",
      " ...\n",
      " [ 64.69855 118.2655 ]\n",
      " [ 67.52918 132.2682 ]\n",
      " [ 68.87761 124.8742 ]]\n",
      "[  2.68350923 136.90940491]\n",
      "[[-0.99651893 -0.08336679]\n",
      " [ 0.08336679 -0.99651893]]\n"
     ]
    }
   ],
   "source": [
    "# first primary component\n",
    "from numpy import matmul, mean, array\n",
    "from numpy import zeros\n",
    "from numpy.linalg import eig\n",
    "n = 25000\n",
    "X = zeros([25000, 2])\n",
    "\n",
    "# print the first 10 lines\n",
    "with open('height-weight.csv') as file:\n",
    "    table = csv.reader(file)\n",
    "    # row index \n",
    "    i = 0\n",
    "    for row in table:\n",
    "        X[i, 0] = float(row[0])\n",
    "        X[i, 1] = float(row[1])\n",
    "        i = i + 1\n",
    "\n",
    "weight = []\n",
    "height = []\n",
    "\n",
    "for i in range(0,n):\n",
    "    weight.append(X[i,0])\n",
    "    height.append(X[i,1])\n",
    "\n",
    "print(X)\n",
    "\n",
    "Y = array([weight-mean(weight), height-mean(height)]).T\n",
    "e, P = eig(matmul(Y.T, Y)/(Y.shape[0]-1))\n",
    "print(\"e: \"e)\n",
    "print(P)\n",
    "\n",
    "cov=matmul(X.T,X)\n",
    "\n",
    "#first primary component is  0.08336679W - 0.99651893H\n",
    "#second primary component is -0.99651893H - 0.08336679W"
   ]
  },
  {
   "cell_type": "code",
   "execution_count": null,
   "metadata": {},
   "outputs": [],
   "source": []
  }
 ],
 "metadata": {
  "kernelspec": {
   "display_name": "Python 3",
   "language": "python",
   "name": "python3"
  },
  "language_info": {
   "codemirror_mode": {
    "name": "ipython",
    "version": 3
   },
   "file_extension": ".py",
   "mimetype": "text/x-python",
   "name": "python",
   "nbconvert_exporter": "python",
   "pygments_lexer": "ipython3",
   "version": "3.8.5"
  }
 },
 "nbformat": 4,
 "nbformat_minor": 4
}
