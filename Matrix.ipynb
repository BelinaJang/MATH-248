{
 "cells": [
  {
   "cell_type": "code",
   "execution_count": 12,
   "metadata": {},
   "outputs": [],
   "source": [
    "#2\n",
    "from numpy import array, zeros\n",
    "from sympy import mul\n",
    "\n",
    "def mul(A_T,A):\n",
    "    ATA = zeros([len(A_T),len(A[0])])\n",
    "    for i in range(len(A_T)): \n",
    "        for j in range(len(A[0])): \n",
    "            for k in range(len(A)):\n",
    "                ATA[i][j] += A_T[i][k] * A[k][j]\n",
    "                return ATA\n",
    "def atab(A,b):\n",
    "    A_T = A.T\n",
    "    B = mul(A_T, T)\n",
    "    x = solve(B,b)\n",
    "    return x\n"
   ]
  }
 ],
 "metadata": {
  "kernelspec": {
   "display_name": "Python 3",
   "language": "python",
   "name": "python3"
  },
  "language_info": {
   "codemirror_mode": {
    "name": "ipython",
    "version": 3
   },
   "file_extension": ".py",
   "mimetype": "text/x-python",
   "name": "python",
   "nbconvert_exporter": "python",
   "pygments_lexer": "ipython3",
   "version": "3.8.5"
  }
 },
 "nbformat": 4,
 "nbformat_minor": 4
}
