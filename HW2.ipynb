{
 "cells": [
  {
   "cell_type": "code",
   "execution_count": 5,
   "metadata": {},
   "outputs": [
    {
     "name": "stdout",
     "output_type": "stream",
     "text": [
      "757.3067256795176\n",
      "[757.30672568]\n",
      "0.004416289259920645\n"
     ]
    }
   ],
   "source": [
    "from numpy import zeros\n",
    "from math import fabs, exp\n",
    "\n",
    "#1-1\n",
    "def SIS(T, I0, beta, gamma, N):\n",
    "    # create the matrix\n",
    "    V = zeros((T + 1, 3))\n",
    "    # the initial con(dition is the first row \n",
    "    S = N-I0\n",
    "    I = I0\n",
    "    N = S + I\n",
    "    V[0] = [S, I, N]\n",
    "    # for each successive time point, compute the number of infections and recoveries\n",
    "    # and compute the S and I\n",
    "    for t in range(1,T+1):\n",
    "        infections = (1-exp(-beta*I/N))*S\n",
    "        recoveries = gamma * I\n",
    "        S = S - infections + recoveries\n",
    "        I = I + infections - recoveries\n",
    "        N = S + I\n",
    "        V[t] = [S, I, N]\n",
    "\n",
    "    V = V[:,1]\n",
    "    #from matplotlib.pyplot import plot\n",
    "    #plot(range(0,51), V, '-r')\n",
    "    \n",
    "    return V\n",
    "\n",
    "\n",
    "#1-2\n",
    "I = SIS(50, 10, 2, 0.25, 1000)\n",
    "I50 = I[50]\n",
    "print(I50)\n",
    "\n",
    "#1-3\n",
    "from scipy.optimize import fsolve\n",
    "logistic = lambda x: (1000-x)*(1-exp(-2*x/1000))-(0.25*x)\n",
    "Equilibrium = fsolve(lambda x: logistic(x), x0 = 750)\n",
    "print(Equilibrium)\n",
    "\n",
    "\n",
    "#2-1\n",
    "import math\n",
    "epsilon = 1*(-3)\n",
    "def Secant(f,x0,x1,epsilon):\n",
    "            \n",
    "    # for an interval [x_0,x_1]\n",
    "    x_0 = x0\n",
    "    x_1 = x1\n",
    "    x_2 = x_1 - f(x_1) * (x_1 - x_0) / (f(x_1) - f(x_0)) \n",
    "\n",
    "# termination condition\n",
    "    while abs(f(x_2)) >= epsilon:\n",
    "\n",
    "        x_2 = x_1 - f(x_1) * (x_1 - x_0) / (f(x_1) - f(x_0))\n",
    "\n",
    "        if f(x_0)*f(x_2) < 0: # when f(x_0) and f(x_2) are oppposite sign, which means there's root in between them.\n",
    "            #assigning a new interval [x_0,x_2]\n",
    "            x_0 = x_0\n",
    "            x_1 = x_2\n",
    "        elif f(x_1)*f(x_2) < 0: # when f(x_1) and f(x_2) are oppposite sign, which means there's root in between them.\n",
    "            #assigning a new interval [x_2,x_1]\n",
    "            x_0 = x_2\n",
    "            x_1 = x_1\n",
    "        else:\n",
    "            print(\"error\")\n",
    "            \n",
    "    return x_2\n",
    "    # returning the approximation of the root\n",
    "    \n",
    "#2-2\n",
    "f_1 = lambda I0: SIS(T=10, I0=I0, beta = 2, gamma = 0.25, N = 1000)[10]-100 #f(I0)\n",
    "\n",
    "Initial = Secant(f_1, x0=0, x1=0.1, epsilon = 0.0001)\n",
    "print(Initial)"
   ]
  },
  {
   "cell_type": "code",
   "execution_count": null,
   "metadata": {},
   "outputs": [],
   "source": []
  }
 ],
 "metadata": {
  "kernelspec": {
   "display_name": "Python 3",
   "language": "python",
   "name": "python3"
  },
  "language_info": {
   "codemirror_mode": {
    "name": "ipython",
    "version": 3
   },
   "file_extension": ".py",
   "mimetype": "text/x-python",
   "name": "python",
   "nbconvert_exporter": "python",
   "pygments_lexer": "ipython3",
   "version": "3.8.5"
  }
 },
 "nbformat": 4,
 "nbformat_minor": 4
}
