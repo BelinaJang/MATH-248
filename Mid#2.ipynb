{
 "cells": [
  {
   "cell_type": "code",
   "execution_count": 18,
   "metadata": {},
   "outputs": [],
   "source": [
    "#Question 1\n",
    "from numpy.random import seed\n",
    "seed(1)\n",
    "from numpy import array\n",
    "from numpy.random import choice\n",
    "\n",
    "#probability 0.7 to show the head and 0.3 to show the tail, using 0 to represent the tail, and 1 to represent the head\n",
    "# stored the data in an array named Y\n",
    "Y = choice([0,1],400,p=[0.3,0.7])"
   ]
  },
  {
   "cell_type": "code",
   "execution_count": 19,
   "metadata": {},
   "outputs": [
    {
     "data": {
      "text/latex": [
       "$\\displaystyle \\frac{\\left(r^{2} x^{4} - 2 r x^{2} + 2\\right) e^{r x^{2}}}{r^{3}} - \\frac{2}{r^{3}}$"
      ],
      "text/plain": [
       "(r**2*x**4 - 2*r*x**2 + 2)*exp(r*x**2)/r**3 - 2/r**3"
      ]
     },
     "metadata": {},
     "output_type": "display_data"
    },
    {
     "data": {
      "text/latex": [
       "$\\displaystyle \\frac{2 x \\left(r^{2} x^{4} - 2 r x^{2} + 2\\right) e^{r x^{2}}}{r^{2}} + \\frac{\\left(4 r^{2} x^{3} - 4 r x\\right) e^{r x^{2}}}{r^{3}}$"
      ],
      "text/plain": [
       "2*x*(r**2*x**4 - 2*r*x**2 + 2)*exp(r*x**2)/r**2 + (4*r**2*x**3 - 4*r*x)*exp(r*x**2)/r**3"
      ]
     },
     "metadata": {},
     "output_type": "display_data"
    },
    {
     "name": "stdout",
     "output_type": "stream",
     "text": [
      "dy\n"
     ]
    },
    {
     "data": {
      "text/latex": [
       "$\\displaystyle 2 x^{5} e^{r x^{2}}$"
      ],
      "text/plain": [
       "2*x**5*exp(r*x**2)"
      ]
     },
     "metadata": {},
     "output_type": "display_data"
    }
   ],
   "source": [
    "#Question 2\n",
    "from sympy import *\n",
    "from sympy.abc import r, t, alpha, x\n",
    "from scipy.optimize import fsolve\n",
    "#2-a\n",
    "y = Function(\"y\")\n",
    "r = Symbol(\"r\",positive = True)\n",
    "t = Symbol(\"t\")\n",
    "\n",
    "y = integrate(t**2*exp(r*t),(t,0,x**2))\n",
    "display(y)\n",
    "\n",
    "sol = diff(y,x)\n",
    "display(sol)\n",
    "\n",
    "dy = simplify(sol)\n",
    "print(\"dy\")\n",
    "display(dy)\n",
    "\n",
    "#2-b\n",
    "C = solve(dy)"
   ]
  },
  {
   "cell_type": "code",
   "execution_count": 24,
   "metadata": {},
   "outputs": [
    {
     "name": "stdout",
     "output_type": "stream",
     "text": [
      "-2,31\n",
      "\n",
      "-1,5\n",
      "\n",
      "0,1\n",
      "\n",
      "1,1\n",
      "\n",
      "2,11\n",
      "\n"
     ]
    }
   ],
   "source": [
    "#Question 3\n",
    "from csv import DictReader\n",
    "p=[]\n",
    "with open(\"points.csv\") as file:\n",
    "    for line in file:\n",
    "        print(line)\n",
    "with open(\"points.csv\") as file:\n",
    "    table = DictReader(file, fieldnames=['a','b'])\n",
    "    i = []\n",
    "    j = []\n",
    "    for row in table:\n",
    "        i = i + [int(row['a'])]\n",
    "        j = j + [int(row['b'])]\n",
    "#P = .values"
   ]
  },
  {
   "cell_type": "code",
   "execution_count": null,
   "metadata": {},
   "outputs": [],
   "source": []
  }
 ],
 "metadata": {
  "kernelspec": {
   "display_name": "Python 3",
   "language": "python",
   "name": "python3"
  },
  "language_info": {
   "codemirror_mode": {
    "name": "ipython",
    "version": 3
   },
   "file_extension": ".py",
   "mimetype": "text/x-python",
   "name": "python",
   "nbconvert_exporter": "python",
   "pygments_lexer": "ipython3",
   "version": "3.8.5"
  }
 },
 "nbformat": 4,
 "nbformat_minor": 4
}
