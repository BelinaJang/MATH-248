{
 "cells": [
  {
   "cell_type": "code",
   "execution_count": 1,
   "metadata": {},
   "outputs": [
    {
     "name": "stdout",
     "output_type": "stream",
     "text": [
      "the ratios of consecutive numbers in the sequence:\n",
      " [1.0, 2.0, 1.5, 1.6666666666666667, 1.6, 1.625, 1.6153846153846154, 1.619047619047619, 1.6176470588235294, 1.6181818181818182] \n",
      "\n",
      "n= 12: The sequence is:[0.0, 1.0, 1.0, 2.0, 3.0, 5.0, 8.0, 13.0, 21.0, 34.0, 55.0, 89.0] \n"
     ]
    }
   ],
   "source": [
    "import numpy as np\n",
    "\n",
    "def Fib(n):\n",
    "    if n == 0:\n",
    "        return [n]\n",
    "    elif n == 1:\n",
    "        return [0,1]\n",
    "    else:\n",
    "        a = np.zeros(n) # a = [0,0,0 .... ]\n",
    "        ratio = [] \n",
    "        x0 = 0; x1 = 1\n",
    "        a[1] = x0 + x1;\n",
    "        for i in range(2,n):\n",
    "            x_i = a[i - 1] + a[i - 2]\n",
    "            a[i] = x_i\n",
    "            ratio.append(a[i] / a[i-1])\n",
    "        print(\"the ratios of consecutive numbers in the sequence:\\n\", ratio ,'\\n')\n",
    "        return a\n",
    "    \n",
    "n = 12\n",
    "fib_seq = Fib(n)\n",
    "fib_seq = [round(fib_seq[i],2) for i in range(len(fib_seq)) ]\n",
    "print('n= {}: The sequence is:{} '.format(n, fib_seq))"
   ]
  },
  {
   "cell_type": "code",
   "execution_count": null,
   "metadata": {},
   "outputs": [],
   "source": []
  }
 ],
 "metadata": {
  "kernelspec": {
   "display_name": "Python 3",
   "language": "python",
   "name": "python3"
  },
  "language_info": {
   "codemirror_mode": {
    "name": "ipython",
    "version": 3
   },
   "file_extension": ".py",
   "mimetype": "text/x-python",
   "name": "python",
   "nbconvert_exporter": "python",
   "pygments_lexer": "ipython3",
   "version": "3.8.5"
  }
 },
 "nbformat": 4,
 "nbformat_minor": 2
}
