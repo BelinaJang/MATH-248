{
 "cells": [
  {
   "cell_type": "code",
   "execution_count": 1,
   "metadata": {},
   "outputs": [],
   "source": [
    "#1\n",
    "from numpy.polynomial.polynomial import Polynomial\n",
    "from numpy import linspace, zeros, sin, arange, array\n",
    "from numpy import poly1d\n",
    "from math import pi\n",
    "from numpy.linalg import eigvals\n",
    "from scipy.optimize import fsolve\n",
    "\n",
    "def roots(a):\n",
    "    a = list(a)\n",
    "    n = len(a)\n",
    "    \n",
    "    #companion\n",
    "    C = zeros([n,n])\n",
    "    for i in range(0,n):\n",
    "        if i == n-1:\n",
    "            C[i:] = a\n",
    "            C[i:] = -C[i:]\n",
    "        else:\n",
    "            C[i,i+1] = 1\n",
    "    print(\"companion matrix\")\n",
    "    print(C)\n",
    "    return eigvals(C)"
   ]
  },
  {
   "cell_type": "code",
   "execution_count": 2,
   "metadata": {},
   "outputs": [
    {
     "name": "stdout",
     "output_type": "stream",
     "text": [
      "c: [-1.   2.5  2.5 -2. ]\n",
      "companion matrix\n",
      "[[ 0.    1.    0.  ]\n",
      " [ 0.    0.    1.  ]\n",
      " [-0.5   1.25  1.25]]\n",
      "x: [ 1.7918706   0.32273459 -0.86460519]\n"
     ]
    }
   ],
   "source": [
    "#2\n",
    "from numpy import array, linspace\n",
    "from numpy.linalg import solve\n",
    "from numpy.linalg import eig\n",
    "from numpy import array, matmul\n",
    "\n",
    "#cubic funciton that goes through the points (−1,1), (0,−1), (1,2) and (2,−2)\n",
    "A = array([[1, -1, 1, -1], [1, 0, 0, 0], [1, 1, 1, 1], [1, 2, 4, 8]])\n",
    "\n",
    "b = array([1, -1, 2, -2])\n",
    "\n",
    "c = solve(A, b) # coefficients of the cubic function in an array\n",
    "\n",
    "print(\"c:\",c)\n",
    "c = c / c[len(c)-1] #added\n",
    "\n",
    "x = roots(c[0:len(c)-1]) #was x = roots(c)\n",
    "print(\"x:\",x)"
   ]
  }
 ],
 "metadata": {
  "kernelspec": {
   "display_name": "Python 3",
   "language": "python",
   "name": "python3"
  },
  "language_info": {
   "codemirror_mode": {
    "name": "ipython",
    "version": 3
   },
   "file_extension": ".py",
   "mimetype": "text/x-python",
   "name": "python",
   "nbconvert_exporter": "python",
   "pygments_lexer": "ipython3",
   "version": "3.8.5"
  }
 },
 "nbformat": 4,
 "nbformat_minor": 4
}
